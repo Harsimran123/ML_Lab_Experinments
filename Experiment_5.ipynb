{
  "nbformat": 4,
  "nbformat_minor": 0,
  "metadata": {
    "colab": {
      "name": "Experiment_5.ipynb",
      "provenance": []
    },
    "kernelspec": {
      "name": "python3",
      "display_name": "Python 3"
    },
    "language_info": {
      "name": "python"
    }
  },
  "cells": [
    {
      "cell_type": "code",
      "metadata": {
        "id": "KlaaprdvRXZ1"
      },
      "source": [
        "import pandas as pd\n"
      ],
      "execution_count": null,
      "outputs": []
    },
    {
      "cell_type": "code",
      "metadata": {
        "colab": {
          "base_uri": "https://localhost:8080/",
          "height": 419
        },
        "id": "r8GPJsbsTjpX",
        "outputId": "fcafe9b3-6cd9-4395-b536-29e7a50287d3"
      },
      "source": [
        "df = pd.read_csv(\"/content/spam_ham_dataset.csv\")\n",
        "df"
      ],
      "execution_count": null,
      "outputs": [
        {
          "output_type": "execute_result",
          "data": {
            "text/html": [
              "<div>\n",
              "<style scoped>\n",
              "    .dataframe tbody tr th:only-of-type {\n",
              "        vertical-align: middle;\n",
              "    }\n",
              "\n",
              "    .dataframe tbody tr th {\n",
              "        vertical-align: top;\n",
              "    }\n",
              "\n",
              "    .dataframe thead th {\n",
              "        text-align: right;\n",
              "    }\n",
              "</style>\n",
              "<table border=\"1\" class=\"dataframe\">\n",
              "  <thead>\n",
              "    <tr style=\"text-align: right;\">\n",
              "      <th></th>\n",
              "      <th>Unnamed: 0</th>\n",
              "      <th>label</th>\n",
              "      <th>text</th>\n",
              "      <th>label_num</th>\n",
              "    </tr>\n",
              "  </thead>\n",
              "  <tbody>\n",
              "    <tr>\n",
              "      <th>0</th>\n",
              "      <td>605</td>\n",
              "      <td>ham</td>\n",
              "      <td>Subject: enron methanol ; meter # : 988291\\r\\n...</td>\n",
              "      <td>0</td>\n",
              "    </tr>\n",
              "    <tr>\n",
              "      <th>1</th>\n",
              "      <td>2349</td>\n",
              "      <td>ham</td>\n",
              "      <td>Subject: hpl nom for january 9 , 2001\\r\\n( see...</td>\n",
              "      <td>0</td>\n",
              "    </tr>\n",
              "    <tr>\n",
              "      <th>2</th>\n",
              "      <td>3624</td>\n",
              "      <td>ham</td>\n",
              "      <td>Subject: neon retreat\\r\\nho ho ho , we ' re ar...</td>\n",
              "      <td>0</td>\n",
              "    </tr>\n",
              "    <tr>\n",
              "      <th>3</th>\n",
              "      <td>4685</td>\n",
              "      <td>spam</td>\n",
              "      <td>Subject: photoshop , windows , office . cheap ...</td>\n",
              "      <td>1</td>\n",
              "    </tr>\n",
              "    <tr>\n",
              "      <th>4</th>\n",
              "      <td>2030</td>\n",
              "      <td>ham</td>\n",
              "      <td>Subject: re : indian springs\\r\\nthis deal is t...</td>\n",
              "      <td>0</td>\n",
              "    </tr>\n",
              "    <tr>\n",
              "      <th>...</th>\n",
              "      <td>...</td>\n",
              "      <td>...</td>\n",
              "      <td>...</td>\n",
              "      <td>...</td>\n",
              "    </tr>\n",
              "    <tr>\n",
              "      <th>5166</th>\n",
              "      <td>1518</td>\n",
              "      <td>ham</td>\n",
              "      <td>Subject: put the 10 on the ft\\r\\nthe transport...</td>\n",
              "      <td>0</td>\n",
              "    </tr>\n",
              "    <tr>\n",
              "      <th>5167</th>\n",
              "      <td>404</td>\n",
              "      <td>ham</td>\n",
              "      <td>Subject: 3 / 4 / 2000 and following noms\\r\\nhp...</td>\n",
              "      <td>0</td>\n",
              "    </tr>\n",
              "    <tr>\n",
              "      <th>5168</th>\n",
              "      <td>2933</td>\n",
              "      <td>ham</td>\n",
              "      <td>Subject: calpine daily gas nomination\\r\\n&gt;\\r\\n...</td>\n",
              "      <td>0</td>\n",
              "    </tr>\n",
              "    <tr>\n",
              "      <th>5169</th>\n",
              "      <td>1409</td>\n",
              "      <td>ham</td>\n",
              "      <td>Subject: industrial worksheets for august 2000...</td>\n",
              "      <td>0</td>\n",
              "    </tr>\n",
              "    <tr>\n",
              "      <th>5170</th>\n",
              "      <td>4807</td>\n",
              "      <td>spam</td>\n",
              "      <td>Subject: important online banking alert\\r\\ndea...</td>\n",
              "      <td>1</td>\n",
              "    </tr>\n",
              "  </tbody>\n",
              "</table>\n",
              "<p>5171 rows × 4 columns</p>\n",
              "</div>"
            ],
            "text/plain": [
              "      Unnamed: 0  ... label_num\n",
              "0            605  ...         0\n",
              "1           2349  ...         0\n",
              "2           3624  ...         0\n",
              "3           4685  ...         1\n",
              "4           2030  ...         0\n",
              "...          ...  ...       ...\n",
              "5166        1518  ...         0\n",
              "5167         404  ...         0\n",
              "5168        2933  ...         0\n",
              "5169        1409  ...         0\n",
              "5170        4807  ...         1\n",
              "\n",
              "[5171 rows x 4 columns]"
            ]
          },
          "metadata": {
            "tags": []
          },
          "execution_count": 6
        }
      ]
    },
    {
      "cell_type": "code",
      "metadata": {
        "colab": {
          "base_uri": "https://localhost:8080/",
          "height": 204
        },
        "id": "J-GzOdmpTs1U",
        "outputId": "c705ed1a-15e2-4508-a897-738605a00d9c"
      },
      "source": [
        "df.head()"
      ],
      "execution_count": null,
      "outputs": [
        {
          "output_type": "execute_result",
          "data": {
            "text/html": [
              "<div>\n",
              "<style scoped>\n",
              "    .dataframe tbody tr th:only-of-type {\n",
              "        vertical-align: middle;\n",
              "    }\n",
              "\n",
              "    .dataframe tbody tr th {\n",
              "        vertical-align: top;\n",
              "    }\n",
              "\n",
              "    .dataframe thead th {\n",
              "        text-align: right;\n",
              "    }\n",
              "</style>\n",
              "<table border=\"1\" class=\"dataframe\">\n",
              "  <thead>\n",
              "    <tr style=\"text-align: right;\">\n",
              "      <th></th>\n",
              "      <th>Unnamed: 0</th>\n",
              "      <th>label</th>\n",
              "      <th>text</th>\n",
              "      <th>label_num</th>\n",
              "    </tr>\n",
              "  </thead>\n",
              "  <tbody>\n",
              "    <tr>\n",
              "      <th>0</th>\n",
              "      <td>605</td>\n",
              "      <td>ham</td>\n",
              "      <td>Subject: enron methanol ; meter # : 988291\\r\\n...</td>\n",
              "      <td>0</td>\n",
              "    </tr>\n",
              "    <tr>\n",
              "      <th>1</th>\n",
              "      <td>2349</td>\n",
              "      <td>ham</td>\n",
              "      <td>Subject: hpl nom for january 9 , 2001\\r\\n( see...</td>\n",
              "      <td>0</td>\n",
              "    </tr>\n",
              "    <tr>\n",
              "      <th>2</th>\n",
              "      <td>3624</td>\n",
              "      <td>ham</td>\n",
              "      <td>Subject: neon retreat\\r\\nho ho ho , we ' re ar...</td>\n",
              "      <td>0</td>\n",
              "    </tr>\n",
              "    <tr>\n",
              "      <th>3</th>\n",
              "      <td>4685</td>\n",
              "      <td>spam</td>\n",
              "      <td>Subject: photoshop , windows , office . cheap ...</td>\n",
              "      <td>1</td>\n",
              "    </tr>\n",
              "    <tr>\n",
              "      <th>4</th>\n",
              "      <td>2030</td>\n",
              "      <td>ham</td>\n",
              "      <td>Subject: re : indian springs\\r\\nthis deal is t...</td>\n",
              "      <td>0</td>\n",
              "    </tr>\n",
              "  </tbody>\n",
              "</table>\n",
              "</div>"
            ],
            "text/plain": [
              "   Unnamed: 0  ... label_num\n",
              "0         605  ...         0\n",
              "1        2349  ...         0\n",
              "2        3624  ...         0\n",
              "3        4685  ...         1\n",
              "4        2030  ...         0\n",
              "\n",
              "[5 rows x 4 columns]"
            ]
          },
          "metadata": {
            "tags": []
          },
          "execution_count": 7
        }
      ]
    },
    {
      "cell_type": "code",
      "metadata": {
        "colab": {
          "base_uri": "https://localhost:8080/",
          "height": 204
        },
        "id": "MnT3rGmvTwCv",
        "outputId": "aceb199a-3b55-42b5-b74b-e1506703d5b9"
      },
      "source": [
        "df.tail()"
      ],
      "execution_count": null,
      "outputs": [
        {
          "output_type": "execute_result",
          "data": {
            "text/html": [
              "<div>\n",
              "<style scoped>\n",
              "    .dataframe tbody tr th:only-of-type {\n",
              "        vertical-align: middle;\n",
              "    }\n",
              "\n",
              "    .dataframe tbody tr th {\n",
              "        vertical-align: top;\n",
              "    }\n",
              "\n",
              "    .dataframe thead th {\n",
              "        text-align: right;\n",
              "    }\n",
              "</style>\n",
              "<table border=\"1\" class=\"dataframe\">\n",
              "  <thead>\n",
              "    <tr style=\"text-align: right;\">\n",
              "      <th></th>\n",
              "      <th>Unnamed: 0</th>\n",
              "      <th>label</th>\n",
              "      <th>text</th>\n",
              "      <th>label_num</th>\n",
              "    </tr>\n",
              "  </thead>\n",
              "  <tbody>\n",
              "    <tr>\n",
              "      <th>5166</th>\n",
              "      <td>1518</td>\n",
              "      <td>ham</td>\n",
              "      <td>Subject: put the 10 on the ft\\r\\nthe transport...</td>\n",
              "      <td>0</td>\n",
              "    </tr>\n",
              "    <tr>\n",
              "      <th>5167</th>\n",
              "      <td>404</td>\n",
              "      <td>ham</td>\n",
              "      <td>Subject: 3 / 4 / 2000 and following noms\\r\\nhp...</td>\n",
              "      <td>0</td>\n",
              "    </tr>\n",
              "    <tr>\n",
              "      <th>5168</th>\n",
              "      <td>2933</td>\n",
              "      <td>ham</td>\n",
              "      <td>Subject: calpine daily gas nomination\\r\\n&gt;\\r\\n...</td>\n",
              "      <td>0</td>\n",
              "    </tr>\n",
              "    <tr>\n",
              "      <th>5169</th>\n",
              "      <td>1409</td>\n",
              "      <td>ham</td>\n",
              "      <td>Subject: industrial worksheets for august 2000...</td>\n",
              "      <td>0</td>\n",
              "    </tr>\n",
              "    <tr>\n",
              "      <th>5170</th>\n",
              "      <td>4807</td>\n",
              "      <td>spam</td>\n",
              "      <td>Subject: important online banking alert\\r\\ndea...</td>\n",
              "      <td>1</td>\n",
              "    </tr>\n",
              "  </tbody>\n",
              "</table>\n",
              "</div>"
            ],
            "text/plain": [
              "      Unnamed: 0  ... label_num\n",
              "5166        1518  ...         0\n",
              "5167         404  ...         0\n",
              "5168        2933  ...         0\n",
              "5169        1409  ...         0\n",
              "5170        4807  ...         1\n",
              "\n",
              "[5 rows x 4 columns]"
            ]
          },
          "metadata": {
            "tags": []
          },
          "execution_count": 8
        }
      ]
    },
    {
      "cell_type": "code",
      "metadata": {
        "colab": {
          "base_uri": "https://localhost:8080/"
        },
        "id": "cxmdSoVfTx8F",
        "outputId": "5e72d039-ef95-45a4-b96b-59b723b4bbfc"
      },
      "source": [
        "df.info()"
      ],
      "execution_count": null,
      "outputs": [
        {
          "output_type": "stream",
          "text": [
            "<class 'pandas.core.frame.DataFrame'>\n",
            "RangeIndex: 5171 entries, 0 to 5170\n",
            "Data columns (total 4 columns):\n",
            " #   Column      Non-Null Count  Dtype \n",
            "---  ------      --------------  ----- \n",
            " 0   Unnamed: 0  5171 non-null   int64 \n",
            " 1   label       5171 non-null   object\n",
            " 2   text        5171 non-null   object\n",
            " 3   label_num   5171 non-null   int64 \n",
            "dtypes: int64(2), object(2)\n",
            "memory usage: 161.7+ KB\n"
          ],
          "name": "stdout"
        }
      ]
    },
    {
      "cell_type": "code",
      "metadata": {
        "colab": {
          "base_uri": "https://localhost:8080/"
        },
        "id": "vDy6wqu_T3I2",
        "outputId": "087a5e6d-5749-4d2f-ba02-7002af60bbb8"
      },
      "source": [
        "df.shape"
      ],
      "execution_count": null,
      "outputs": [
        {
          "output_type": "execute_result",
          "data": {
            "text/plain": [
              "(5171, 4)"
            ]
          },
          "metadata": {
            "tags": []
          },
          "execution_count": 10
        }
      ]
    },
    {
      "cell_type": "code",
      "metadata": {
        "colab": {
          "base_uri": "https://localhost:8080/"
        },
        "id": "0GNsJda3UBYe",
        "outputId": "ccf25bda-b1e8-420e-ea84-a8e1335c620e"
      },
      "source": [
        "df.columns.values"
      ],
      "execution_count": null,
      "outputs": [
        {
          "output_type": "execute_result",
          "data": {
            "text/plain": [
              "array(['Unnamed: 0', 'label', 'text', 'label_num'], dtype=object)"
            ]
          },
          "metadata": {
            "tags": []
          },
          "execution_count": 11
        }
      ]
    },
    {
      "cell_type": "code",
      "metadata": {
        "colab": {
          "base_uri": "https://localhost:8080/",
          "height": 111
        },
        "id": "BlC1VOHHUI_D",
        "outputId": "ccd4be1e-3f26-4303-e22f-1ffdbffebe23"
      },
      "source": [
        "df.corr()"
      ],
      "execution_count": null,
      "outputs": [
        {
          "output_type": "execute_result",
          "data": {
            "text/html": [
              "<div>\n",
              "<style scoped>\n",
              "    .dataframe tbody tr th:only-of-type {\n",
              "        vertical-align: middle;\n",
              "    }\n",
              "\n",
              "    .dataframe tbody tr th {\n",
              "        vertical-align: top;\n",
              "    }\n",
              "\n",
              "    .dataframe thead th {\n",
              "        text-align: right;\n",
              "    }\n",
              "</style>\n",
              "<table border=\"1\" class=\"dataframe\">\n",
              "  <thead>\n",
              "    <tr style=\"text-align: right;\">\n",
              "      <th></th>\n",
              "      <th>Unnamed: 0</th>\n",
              "      <th>label_num</th>\n",
              "    </tr>\n",
              "  </thead>\n",
              "  <tbody>\n",
              "    <tr>\n",
              "      <th>Unnamed: 0</th>\n",
              "      <td>1.000000</td>\n",
              "      <td>0.785847</td>\n",
              "    </tr>\n",
              "    <tr>\n",
              "      <th>label_num</th>\n",
              "      <td>0.785847</td>\n",
              "      <td>1.000000</td>\n",
              "    </tr>\n",
              "  </tbody>\n",
              "</table>\n",
              "</div>"
            ],
            "text/plain": [
              "            Unnamed: 0  label_num\n",
              "Unnamed: 0    1.000000   0.785847\n",
              "label_num     0.785847   1.000000"
            ]
          },
          "metadata": {
            "tags": []
          },
          "execution_count": 12
        }
      ]
    },
    {
      "cell_type": "code",
      "metadata": {
        "colab": {
          "base_uri": "https://localhost:8080/"
        },
        "id": "gYB1blTVUaPO",
        "outputId": "49cf289c-53da-4eec-b51f-0240d224257c"
      },
      "source": [
        "for i in df.columns:\n",
        "    print(i)\n",
        "    print(df[i].value_counts())\n",
        "    print('-----------------------*********---------------------------')"
      ],
      "execution_count": null,
      "outputs": [
        {
          "output_type": "stream",
          "text": [
            "Unnamed: 0\n",
            "2047    1\n",
            "537     1\n",
            "4663    1\n",
            "2616    1\n",
            "569     1\n",
            "       ..\n",
            "1190    1\n",
            "3239    1\n",
            "1194    1\n",
            "3243    1\n",
            "0       1\n",
            "Name: Unnamed: 0, Length: 5171, dtype: int64\n",
            "-----------------------*********---------------------------\n",
            "label\n",
            "ham     3672\n",
            "spam    1499\n",
            "Name: label, dtype: int64\n",
            "-----------------------*********---------------------------\n",
            "text\n",
            "Subject: calpine daily gas nomination\\r\\n>\\r\\nricky a . archer\\r\\nfuel supply\\r\\n700 louisiana , suite 2700\\r\\nhouston , texas 77002\\r\\n713 - 830 - 8659 direct\\r\\n713 - 830 - 8722 fax\\r\\n- calpine daily gas nomination 1 . doc                                                                                                                                                                                                                                                                                                                                                                                                                                                                                                                                                                                                                                                                                                                                                                                                                                                                                                                                                                                                                                                                                                                                                                                                                                                                                                                                                                                                                                                                                                                                                                                                                                                                                                                                                                                                                                                                                                                                                                                                                                                                                                                                                                                                                                                                                                                                                                                                                                                                                                                                                                                                                                                                                                                                                                                                                                                                                                                                                                                                                                                                                                                                                                                                                                                                                                                                                                                                                                                                                                                                                                                                                                                                                                                                                                                                                                                                                                                                                                                                                                                                                                                                                                                                                                                                                                                                                                                                                                                                                                                                                                                                                                                                                                                                                                                                                                                                                                                                                                                                                                                                                                                                                                                                                                                                                                                                                                                                                                                                                                                                                                                                                                                                                                                                                                                                                                                                                                                                                                                                                                                                                                                                                                                                                                                                                                                                                                                                                                                                                                                                                                                                                                                                                                                                                                                                                                                                                                                                                                                                                                                                                                                     20\n",
            "Subject: \\r\\n                                                                                                                                                                                                                                                                                                                                                                                                                                                                                                                                                                                                                                                                                                                                                                                                                                                                                                                                                                                                                                                                                                                                                                                                                                                                                                                                                                                                                                                                                                                                                                                                                                                                                                                                                                                                                                                                                                                                                                                                                                                                                                                                                                                                                                                                                                                                                                                                                                                                                                                                                                                                                                                                                                                                                                                                                                                                                                                                                                                                                                                                                                                                                                                                                                                                                                                                                                                                                                                                                                                                                                                                                                                                                                                                                                                                                                                                                                                                                                                                                                                                                                                                                                                                                                                                                                                                                                                                                                                                                                                                                                                                                                                                                                                                                                                                                                                                                                                                                                                                                                                                                                                                                                                                                                                                                                                                                                                                                                                                                                                                                                                                                                                                                                                                                                                                                                                                                                                                                                                                                                                                                                                                                                                                                                                                                                                                                                                                                                                                                                                                                                                                                                                                                                                                                                                                                                                                                                                                                                                                                                                                                                                                                                                                                                                                                                                                         16\n",
            "Subject: \\r\\nthis week only : f . ree gen . erlc vlag . ra\\r\\ncover the shipping , and we ' ll send youour product at no cost to prove its\\r\\neffectiveness .\\r\\nwon ' t last . . . hurry\\r\\nstop promos .\\r\\n                                                                                                                                                                                                                                                                                                                                                                                                                                                                                                                                                                                                                                                                                                                                                                                                                                                                                                                                                                                                                                                                                                                                                                                                                                                                                                                                                                                                                                                                                                                                                                                                                                                                                                                                                                                                                                                                                                                                                                                                                                                                                                                                                                                                                                                                                                                                                                                                                                                                                                                                                                                                                                                                                                                                                                                                                                                                                                                                                                                                                                                                                                                                                                                                                                                                                                                                                                                                                                                                                                                                                                                                                                                                                                                                                                                                                                                                                                                                                                                                                                                                                                                                                                                                                                                                                                                                                                                                                                                                                                                                                                                                                                                                                                                                                                                                                                                                                                                                                                                                                                                                                                                                                                                                                                                                                                                                                                                                                                                                                                                                                                                                                                                                                                                                                                                                                                                                                                                                                                                                                                                                                                                                                                                                                                                                                                                                                                                                                                                                                                                                                                                                                                                                                                                                                                                                                                                                                                                                                                                                                                                                                                                                         3\n",
            "Subject: we ' ve found a school for you !\\r\\n                                                                                                                                                                                                                                                                                                                                                                                                                                                                                                                                                                                                                                                                                                                                                                                                                                                                                                                                                                                                                                                                                                                                                                                                                                                                                                                                                                                                                                                                                                                                                                                                                                                                                                                                                                                                                                                                                                                                                                                                                                                                                                                                                                                                                                                                                                                                                                                                                                                                                                                                                                                                                                                                                                                                                                                                                                                                                                                                                                                                                                                                                                                                                                                                                                                                                                                                                                                                                                                                                                                                                                                                                                                                                                                                                                                                                                                                                                                                                                                                                                                                                                                                                                                                                                                                                                                                                                                                                                                                                                                                                                                                                                                                                                                                                                                                                                                                                                                                                                                                                                                                                                                                                                                                                                                                                                                                                                                                                                                                                                                                                                                                                                                                                                                                                                                                                                                                                                                                                                                                                                                                                                                                                                                                                                                                                                                                                                                                                                                                                                                                                                                                                                                                                                                                                                                                                                                                                                                                                                                                                                                                                                                                                                                                                                                                                                          3\n",
            "Subject: you can be smart !\\r\\n                                                                                                                                                                                                                                                                                                                                                                                                                                                                                                                                                                                                                                                                                                                                                                                                                                                                                                                                                                                                                                                                                                                                                                                                                                                                                                                                                                                                                                                                                                                                                                                                                                                                                                                                                                                                                                                                                                                                                                                                                                                                                                                                                                                                                                                                                                                                                                                                                                                                                                                                                                                                                                                                                                                                                                                                                                                                                                                                                                                                                                                                                                                                                                                                                                                                                                                                                                                                                                                                                                                                                                                                                                                                                                                                                                                                                                                                                                                                                                                                                                                                                                                                                                                                                                                                                                                                                                                                                                                                                                                                                                                                                                                                                                                                                                                                                                                                                                                                                                                                                                                                                                                                                                                                                                                                                                                                                                                                                                                                                                                                                                                                                                                                                                                                                                                                                                                                                                                                                                                                                                                                                                                                                                                                                                                                                                                                                                                                                                                                                                                                                                                                                                                                                                                                                                                                                                                                                                                                                                                                                                                                                                                                                                                                                                                                                                                        3\n",
            "                                                                                                                                                                                                                                                                                                                                                                                                                                                                                                                                                                                                                                                                                                                                                                                                                                                                                                                                                                                                                                                                                                                                                                                                                                                                                                                                                                                                                                                                                                                                                                                                                                                                                                                                                                                                                                                                                                                                                                                                                                                                                                                                                                                                                                                                                                                                                                                                                                                                                                                                                                                                                                                                                                                                                                                                                                                                                                                                                                                                                                                                                                                                                                                                                                                                                                                                                                                                                                                                                                                                                                                                                                                                                                                                                                                                                                                                                                                                                                                                                                                                                                                                                                                                                                                                                                                                                                                                                                                                                                                                                                                                                                                                                                                                                                                                                                                                                                                                                                                                                                                                                                                                                                                                                                                                                                                                                                                                                                                                                                                                                                                                                                                                                                                                                                                                                                                                                                                                                                                                                                                                                                                                                                                                                                                                                                                                                                                                                                                                                                                                                                                                                                                                                                                                                                                                                                                                                                                                                                                                                                                                                                                                                                                                                                                                                                                                                      ..\n",
            "Subject: kaf storage project\\r\\nas requested , this is the summary of what we have discussed regarding kaf deal .\\r\\nscenario 1 :\\r\\nhpl nominates 6 , 200 mmbtu / day , apr ' 02 - may ' 02 , ( 409 , 000 mmbtu total ) of their south texas production into the kathleen anne field in wilson county , tx . and enron replaces this same volume in the location of their choice .\\r\\nscenario 2 :\\r\\nscenario 1 plus ena sells hpl 500 , 000 mmbtu of storage service with an injection rate of approximately 15 , 000 mmbtu / day and a withdraw rate of 37 , 500 mmbtu / day to help them serve the swing on the tuffco contract .\\r\\nnotes : the field is not yet connected to hpl , but will be .\\r\\nthanks for your help .\\r\\ngeorge huan\\r\\ngas structuring                                                                                                                                                                                                                                                                                                                                                                                                                                                                                                                                                                                                                                                                                                                                                                                                                                                                                                                                                                                                                                                                                                                                                                                                                                                                                                                                                                                                                                                                                                                                                                                                                                                                                                                                                                                                                                                                                                                                                                                                                                                                                                                                                                                                                                                                                                                                                                                                                                                                                                                                                                                                                                                                                                                                                                                                                                                                                                                                                                                                                                                                                                                                                                                                                                                                                                                                                                                                                                                                                                                                                                                                                                                                                                                                                                                                                                                                                                                                                                                                                                                                                                                                                                                                                                                                                                                                                                                                                                                                                                                                                                                                                                                                                                                                                                                                                                                                                                                                                                                                                                                                                                                                                                                                                                                                                                                                                                                                                                                                                                                                                                                                                                                                                                                                                                                                                                                                                                                                                                                                                                                                                                                                                                                                                                                                                                                                                                                                                                                                                                                                                                                    1\n",
            "Subject: inactivations\\r\\ncheryl johnson\\r\\n08 / 31 / 2000 11 : 14 am\\r\\nto : camille gerard / corp / enron @ enron , jeremy wong / hou / ect @ ect , bob\\r\\nbowen / hou / ect @ ect , debbie r brackett / hou / ect @ ect , mary g gosnell / hou / ect @ ect ,\\r\\nlarry joe hunter / hou / ect @ ect , kori loibl / hou / ect @ ect , tom e\\r\\nmoore / hou / ect @ ect , john d powell / hou / ect @ ect , brant reves / hou / ect @ ect ,\\r\\nmarilyn colbert / hou / ect @ ect , bill d hare / hou / ect @ ect , laurel\\r\\nadams / hou / ect @ ect , peggy alix / hou / ect @ ect , amelia alland / hou / ect @ ect , lauri a\\r\\nallen / hou / ect @ ect , bridgette anderson / corp / enron @ enron , beth\\r\\napollo / lon / ect @ ect , arfan aziz / lon / ect @ ect , susan bailey / hou / ect @ ect , cyndie\\r\\nbalfour - flanagan / corp / enron @ enron , stacey richardson / hou / ect @ ect , edward d\\r\\nbaughman / hou / ect @ ect , kimberlee a bennick / hou / ect @ ect , lisa berg\\r\\ncarver / hou / ect @ ect , anne bike / corp / enron @ enron , jennifer blay / hou / ect @ ect ,\\r\\nfred boas / hou / ect @ ect , bob bowen / hou / ect @ ect , debbie r brackett / hou / ect @ ect ,\\r\\nlinda s bryan / hou / ect @ ect , lesli campbell / hou / ect @ ect , anthony\\r\\ncampos / hou / ect @ ect , sylvia a campos / hou / ect @ ect , nella\\r\\ncappelletto / cal / ect @ ect , cary m carrabine / hou / ect @ ect , clem\\r\\ncernosek / hou / ect @ ect , pat clynes / corp / enron @ enron , marilyn\\r\\ncolbert / hou / ect @ ect , brad coleman / hou / ect @ ect , donna consemiu / hou / ect @ ect ,\\r\\nrobert cotten / hou / ect @ ect , mike croucher / hou / ect @ ect , romeo\\r\\nd ' souza / hou / ect @ ect , shonnie daniel / hou / ect @ ect , frank l davis / hou / ect @ ect ,\\r\\ncheryl dawes / cal / ect @ ect , jennifer deboisblanc denny / hou / ect @ ect , rhonda l\\r\\ndenton / hou / ect @ ect , russell diamond / hou / ect @ ect , stacy e dickson / hou / ect @ ect ,\\r\\nbradley diebner / hou / ect @ ect , michael eiben / hou / ect @ ect , susan\\r\\nelledge / na / enron @ enron , faye ellis / hou / ect @ ect , diane ellstrom / hou / ect @ ect ,\\r\\nveronica espinoza / corp / enron @ enron , enron europe global contracts and\\r\\nfacilities , enron europe global counterparty , daren j farmer / hou / ect @ ect ,\\r\\njacquelyn farriel / gpgfin / enron @ enron , genia fitzgerald / hou / ect @ ect , irene\\r\\nflynn / hou / ect @ ect , shawna flynn / hou / ect @ ect , susan flynn / hou / ect @ ect , hoong p\\r\\nfoon / hou / ect @ ect , rebecca ford / hou / ect @ ect , imelda frayre / hou / ect @ ect ,\\r\\nrandall l gay / hou / ect @ ect , scotty gilbert / tor / ect @ ect , lisa\\r\\ngillette / hou / ect @ ect , carolyn gilley / hou / ect @ ect , winston\\r\\ngoodbody / hou / ect @ ect , amita gosalia / lon / ect @ ect , mary g gosnell / hou / ect @ ect ,\\r\\nmelissa graves / hou / ect @ ect , andrea r guillen / hou / ect @ ect , david\\r\\nhardy / lon / ect @ ect , bill d hare / hou / ect @ ect , kenneth m harmon / hou / ect @ ect ,\\r\\ntony harris / hou / ect @ ect , peggy hedstrom / cal / ect @ ect , elizabeth l\\r\\nhernandez / hou / ect @ ect , brenda f herod / hou / ect @ ect , marlene\\r\\nhilliard / hou / ect @ ect , liz hillman / corp / enron @ enron , nathan l\\r\\nhlavaty / hou / ect @ ect , corey hobbs / corp / enron @ enron , jim homco / hou / ect @ ect ,\\r\\ncindy horn / hou / ect @ ect , larry joe hunter / hou / ect @ ect , rahil\\r\\njafry / hou / ect @ ect , tana jones / hou / ect @ ect , katherine l kelly / hou / ect @ ect ,\\r\\nnanette kettler / hou / ect @ ect , cheryl dudley / hou / ect @ ect , bob\\r\\nklein / hou / ect @ ect , troy klussmann / hou / ect @ ect , victor lamadrid / hou / ect @ ect ,\\r\\nkaren lambert / hou / ect @ ect , gary w lamphier / hou / ect @ ect , kristian j\\r\\nlande / hou / ect @ ect , elsie lew / hou / ect @ ect , andrew h lewis / hou / ect @ ect , jim\\r\\nlittle / hou / ect @ ect , kori loibl / hou / ect @ ect , melba lozano / hou / ect @ ect , scott f\\r\\nlytle / hou / ect @ ect , hillary mack / corp / enron @ enron , richard c\\r\\nmckeel / hou / ect @ ect , chris mendoza / hou / ect @ ect , nidia mendoza / hou / ect @ ect ,\\r\\ncarey m metz / hou / ect @ ect , julie meyers / hou / ect @ ect , richard a\\r\\nmiley / hou / ect @ ect , bruce mills / corp / enron @ enron , scott mills / hou / ect @ ect ,\\r\\nglenda d mitchell / hou / ect @ ect , patrice l mims / hou / ect @ ect , jason\\r\\nmoore / hou / ect @ ect , torrey moorer / hou / ect @ ect , jackie morgan / hou / ect @ ect ,\\r\\nmichael w morris / hou / ect @ ect , matt motsinger / hou / ect @ ect , gary\\r\\nnelson / hou / ect @ ect , dale neuner / hou / ect @ ect , tracy ngo / hou / ect @ ect , debbie\\r\\nnicholls / lon / ect @ ect , john l nowlan / hou / ect @ ect , frank\\r\\nortiz / epsc / hou / ect @ ect , b scott palmer / hou / ect @ ect , anita k\\r\\npatton / hou / ect @ ect , regina perkins / hou / ect @ ect , debra\\r\\nperlingiere / hou / ect @ ect , richard pinion / hou / ect @ ect , sylvia s\\r\\npollan / hou / ect @ ect , brent a price / hou / ect @ ect , cyril price / hou / ect @ ect , joan\\r\\nquick / hou / ect @ ect , dutch quigley / hou / ect @ ect , leslie reeves / hou / ect @ ect ,\\r\\ndonald p reinhardt / hou / ect @ ect , brant reves / hou / ect @ ect , suzy\\r\\nrobey / hou / ect @ ect , bernice rodriguez / hou / ect @ ect , carlos j\\r\\nrodriguez / hou / ect @ ect , sam round / hou / ect @ ect , marilyn m schoppe / hou / ect @ ect ,\\r\\nsamuel schott / hou / ect @ ect , brad schneider / corp / enron @ enron , dianne\\r\\nseib / cal / ect @ ect , cris sherman / hou / ect @ ect , john sherriff / lon / ect @ ect , james\\r\\nshirley / hou / ees @ ees , lynn e shivers / hou / ect @ ect , michele small / lon / ect @ ect ,\\r\\nmary m smith / hou / ect @ ect , susan smith / hou / ect @ ect , mary\\r\\nsolmonson / hou / ect @ ect , jefferson d sorenson / hou / ect @ ect , carrie\\r\\nsouthard / hou / ect @ ect , mechelle stevens / hou / ect @ ect , willie\\r\\nstewart / hou / ect @ ect , geoff storey / hou / ect @ ect , colleen sullivan / hou / ect @ ect ,\\r\\njohn suttle / hou / ect @ ect , connie sutton / hou / ect @ ect , tara\\r\\nsweitzer / hou / ect @ ect , dianne j swiber / hou / ect @ ect , neal symms / hou / ect @ ect ,\\r\\nvance l taylor / hou / ect @ ect , edward terry / hou / ect @ ect , kim s\\r\\ntheriot / hou / ect @ ect , sheri thomas / hou / ect @ ect , veronica\\r\\nthompson / gpgfin / enron @ enron , mark d thorne / hou / ect @ ect , philippe\\r\\ntravis / lon / ect @ ect , susan d trevino / hou / ect @ ect , laura\\r\\nvargas / corp / enron @ enron , claire viejou / lon / ect @ ect , elsa\\r\\nvillarreal / hou / ect @ ect , robert walker / hou / ect @ ect , george\\r\\nweissman / hou / ect @ ect , chris wiebe / cal / ect @ ect , sony wilson / hou / ect @ ect ,\\r\\no ' neal d winfree / hou / ect @ ect , christa winfrey / hou / ect @ ect , rita\\r\\nwynne / hou / ect @ ect\\r\\ncc :\\r\\nsubject : inactivations\\r\\nreminder :\\r\\nrecords on the august 2000 name change / merger notification report will be\\r\\ninactivated tomorrow afternoon 9 / 01 .     1\n",
            "Subject: hpl nom for january 12 , 2001\\r\\n( see attached file : hplnol 12 . xls )\\r\\n- hplnol 12 . xls                                                                                                                                                                                                                                                                                                                                                                                                                                                                                                                                                                                                                                                                                                                                                                                                                                                                                                                                                                                                                                                                                                                                                                                                                                                                                                                                                                                                                                                                                                                                                                                                                                                                                                                                                                                                                                                                                                                                                                                                                                                                                                                                                                                                                                                                                                                                                                                                                                                                                                                                                                                                                                                                                                                                                                                                                                                                                                                                                                                                                                                                                                                                                                                                                                                                                                                                                                                                                                                                                                                                                                                                                                                                                                                                                                                                                                                                                                                                                                                                                                                                                                                                                                                                                                                                                                                                                                                                                                                                                                                                                                                                                                                                                                                                                                                                                                                                                                                                                                                                                                                                                                                                                                                                                                                                                                                                                                                                                                                                                                                                                                                                                                                                                                                                                                                                                                                                                                                                                                                                                                                                                                                                                                                                                                                                                                                                                                                                                                                                                                                                                                                                                                                                                                                                                                                                                                                                                                                                                                                                                                                                                                                                                                                                                                                 1\n",
            "Subject: hi\\r\\none million profiles of hot old age , young age woman that are looking for some part time friendship on the side . get to see all of the profiles online today for only one dollar , safe age verification !\\r\\nbump off\\r\\n                                                                                                                                                                                                                                                                                                                                                                                                                                                                                                                                                                                                                                                                                                                                                                                                                                                                                                                                                                                                                                                                                                                                                                                                                                                                                                                                                                                                                                                                                                                                                                                                                                                                                                                                                                                                                                                                                                                                                                                                                                                                                                                                                                                                                                                                                                                                                                                                                                                                                                                                                                                                                                                                                                                                                                                                                                                                                                                                                                                                                                                                                                                                                                                                                                                                                                                                                                                                                                                                                                                                                                                                                                                                                                                                                                                                                                                                                                                                                                                                                                                                                                                                                                                                                                                                                                                                                                                                                                                                                                                                                                                                                                                                                                                                                                                                                                                                                                                                                                                                                                                                                                                                                                                                                                                                                                                                                                                                                                                                                                                                                                                                                                                                                                                                                                                                                                                                                                                                                                                                                                                                                                                                                                                                                                                                                                                                                                                                                                                                                                                                                                                                                                                                                                                                                                                                                                                                                                                                                                                                                                                                                                            1\n",
            "Subject: re : noms / actual flow for 4 / 01 / 01\\r\\nwe agree with 35 . 000 for april 1 , 2001\\r\\n\" eileen ponton \" on 04 / 04 / 2001 09 : 37 : 36 am\\r\\nto : david avila / lsp / enserch / us @ tu , charlie stone / texas utilities @ tu , melissa\\r\\njones / texas utilities @ tu , hpl . scheduling @ enron . com , liz . bellamy @ enron . com\\r\\ncc :\\r\\nsubject : noms / actual flow for 4 / 01 / 01\\r\\ni will agree with the nom of 35 , 000 for the lst . we are experiencing\\r\\ndifficulties in downloading actual flow volumes from el paso thus my gas\\r\\ncontrol has advised to use a flow rate of 35 , 000 for the lst at this point\\r\\nin time . when we receive a more accurate measurement volume i will forward\\r\\nto you . . . . . . .                                                                                                                                                                                                                                                                                                                                                                                                                                                                                                                                                                                                                                                                                                                                                                                                                                                                                                                                                                                                                                                                                                                                                                                                                                                                                                                                                                                                                                                                                                                                                                                                                                                                                                                                                                                                                                                                                                                                                                                                                                                                                                                                                                                                                                                                                                                                                                                                                                                                                                                                                                                                                                                                                                                                                                                                                                                                                                                                                                                                                                                                                                                                                                                                                                                                                                                                                                                                                                                                                                                                                                                                                                                                                                                                                                                                                                                                                                                                                                                                                                                                                                                                                                                                                                                                                                                                                                                                                                                                                                                                                                                                                                                                                                                                                                                                                                                                                                                                                                                                                                                                                                                                                                                                                                                                                                                                                                                                                                                                                                                                                                                                                                                                                                                                                                                                                                                                                                                                                                                                                                                                                                                                                                                                                                                                                                                                                                                                                                                                                                                                                                                               1\n",
            "Name: text, Length: 4993, dtype: int64\n",
            "-----------------------*********---------------------------\n",
            "label_num\n",
            "0    3672\n",
            "1    1499\n",
            "Name: label_num, dtype: int64\n",
            "-----------------------*********---------------------------\n"
          ],
          "name": "stdout"
        }
      ]
    },
    {
      "cell_type": "code",
      "metadata": {
        "colab": {
          "base_uri": "https://localhost:8080/"
        },
        "id": "NfBaGZTuUeOj",
        "outputId": "9c51fd25-af91-4fe7-fdef-1d8a3c613ee5"
      },
      "source": [
        "df['label_num'].value_counts()"
      ],
      "execution_count": null,
      "outputs": [
        {
          "output_type": "execute_result",
          "data": {
            "text/plain": [
              "0    3672\n",
              "1    1499\n",
              "Name: label_num, dtype: int64"
            ]
          },
          "metadata": {
            "tags": []
          },
          "execution_count": 16
        }
      ]
    },
    {
      "cell_type": "code",
      "metadata": {
        "id": "U_waUnItU2uW"
      },
      "source": [
        "import matplotlib.pyplot as plt\n",
        "import seaborn as sns"
      ],
      "execution_count": null,
      "outputs": []
    },
    {
      "cell_type": "code",
      "metadata": {
        "colab": {
          "base_uri": "https://localhost:8080/",
          "height": 351
        },
        "id": "4RQhoXQpVUdo",
        "outputId": "4b17b418-36b0-43aa-dca5-4a62fb6f4d7e"
      },
      "source": [
        "sns.countplot(df['label_num'])"
      ],
      "execution_count": null,
      "outputs": [
        {
          "output_type": "stream",
          "text": [
            "/usr/local/lib/python3.7/dist-packages/seaborn/_decorators.py:43: FutureWarning: Pass the following variable as a keyword arg: x. From version 0.12, the only valid positional argument will be `data`, and passing other arguments without an explicit keyword will result in an error or misinterpretation.\n",
            "  FutureWarning\n"
          ],
          "name": "stderr"
        },
        {
          "output_type": "execute_result",
          "data": {
            "text/plain": [
              "<matplotlib.axes._subplots.AxesSubplot at 0x7f1ba19e1090>"
            ]
          },
          "metadata": {
            "tags": []
          },
          "execution_count": 20
        },
        {
          "output_type": "display_data",
          "data": {
            "image/png": "[encoded data removed]",
            "text/plain": [
              "<Figure size 432x288 with 1 Axes>"
            ]
          },
          "metadata": {
            "tags": [],
            "needs_background": "light"
          }
        }
      ]
    },
    {
      "cell_type": "code",
      "metadata": {
        "id": "GfFYyQ_IVuLa"
      },
      "source": [
        "from sklearn.feature_extraction.text import CountVectorizer "
      ],
      "execution_count": null,
      "outputs": []
    },
    {
      "cell_type": "code",
      "metadata": {
        "colab": {
          "base_uri": "https://localhost:8080/"
        },
        "id": "YUIyqAJOWCUv",
        "outputId": "a94bdbee-b435-4e41-f161-1ff2d92f4279"
      },
      "source": [
        "vector = CountVectorizer()\n",
        "spam_ham = vector.fit_transform(df['text'])\n",
        "spam_ham.toarray\n"
      ],
      "execution_count": null,
      "outputs": [
        {
          "output_type": "execute_result",
          "data": {
            "text/plain": [
              "<bound method _cs_matrix.toarray of <5171x50447 sparse matrix of type '<class 'numpy.int64'>'\n",
              "\twith 456145 stored elements in Compressed Sparse Row format>>"
            ]
          },
          "metadata": {
            "tags": []
          },
          "execution_count": 26
        }
      ]
    },
    {
      "cell_type": "code",
      "metadata": {
        "colab": {
          "base_uri": "https://localhost:8080/"
        },
        "id": "rjtIqDhHWny6",
        "outputId": "782a066f-6f56-4d89-9c1a-4e11beded697"
      },
      "source": [
        "x =spam_ham\n",
        "y= df['label_num'].values\n",
        "y"
      ],
      "execution_count": null,
      "outputs": [
        {
          "output_type": "execute_result",
          "data": {
            "text/plain": [
              "array([0, 0, 0, ..., 0, 0, 1])"
            ]
          },
          "metadata": {
            "tags": []
          },
          "execution_count": 29
        }
      ]
    },
    {
      "cell_type": "code",
      "metadata": {
        "id": "bbykldtTW3MK"
      },
      "source": [
        "from sklearn.model_selection import train_test_split\n",
        "xtrain,xtest,ytrain,ytest = train_test_split(x,y,test_size=0.2, random_state=42)\n"
      ],
      "execution_count": null,
      "outputs": []
    },
    {
      "cell_type": "code",
      "metadata": {
        "colab": {
          "base_uri": "https://localhost:8080/"
        },
        "id": "XokT5y1SXUsV",
        "outputId": "7596743b-5d39-4e5f-9c25-25cabc2f94ec"
      },
      "source": [
        "from sklearn.naive_bayes import MultinomialNB\n",
        "nb = MultinomialNB()\n",
        "nb.fit(xtrain,ytrain)\n",
        " "
      ],
      "execution_count": null,
      "outputs": [
        {
          "output_type": "execute_result",
          "data": {
            "text/plain": [
              "MultinomialNB(alpha=1.0, class_prior=None, fit_prior=True)"
            ]
          },
          "metadata": {
            "tags": []
          },
          "execution_count": 31
        }
      ]
    },
    {
      "cell_type": "code",
      "metadata": {
        "colab": {
          "base_uri": "https://localhost:8080/"
        },
        "id": "2lPp33sZXpup",
        "outputId": "d21733e2-a0ec-4f39-c60a-c81a0c3504d8"
      },
      "source": [
        "ypred = nb.predict(xtrain)\n",
        "ypred"
      ],
      "execution_count": null,
      "outputs": [
        {
          "output_type": "execute_result",
          "data": {
            "text/plain": [
              "array([0, 0, 0, ..., 1, 0, 0])"
            ]
          },
          "metadata": {
            "tags": []
          },
          "execution_count": 32
        }
      ]
    },
    {
      "cell_type": "code",
      "metadata": {
        "colab": {
          "base_uri": "https://localhost:8080/"
        },
        "id": "CYXd2-A5Xvqt",
        "outputId": "c708a181-9542-4ad5-d7f9-2499bb2b237b"
      },
      "source": [
        "ypredtest = nb.predict(xtest)\n",
        "ypredtest"
      ],
      "execution_count": null,
      "outputs": [
        {
          "output_type": "execute_result",
          "data": {
            "text/plain": [
              "array([0, 1, 0, ..., 1, 0, 0])"
            ]
          },
          "metadata": {
            "tags": []
          },
          "execution_count": 34
        }
      ]
    },
    {
      "cell_type": "code",
      "metadata": {
        "colab": {
          "base_uri": "https://localhost:8080/"
        },
        "id": "7_VuhobPX5xp",
        "outputId": "bc4224e2-b1e3-4c63-de8b-fb21bf096efc"
      },
      "source": [
        "from sklearn.metrics import classification_report , confusion_matrix, accuracy_score\n",
        "cmtest = confusion_matrix( ytest, ypredtest)\n",
        "cmtrain = confusion_matrix (ytrain, ypred)\n",
        "cmtest\n"
      ],
      "execution_count": null,
      "outputs": [
        {
          "output_type": "execute_result",
          "data": {
            "text/plain": [
              "array([[731,  11],\n",
              "       [ 11, 282]])"
            ]
          },
          "metadata": {
            "tags": []
          },
          "execution_count": 37
        }
      ]
    },
    {
      "cell_type": "code",
      "metadata": {
        "colab": {
          "base_uri": "https://localhost:8080/"
        },
        "id": "ad4g-g6uYfB4",
        "outputId": "95bbed7f-8594-4d12-9b01-76993088d18a"
      },
      "source": [
        "cmtrain"
      ],
      "execution_count": null,
      "outputs": [
        {
          "output_type": "execute_result",
          "data": {
            "text/plain": [
              "array([[2909,   21],\n",
              "       [  33, 1173]])"
            ]
          },
          "metadata": {
            "tags": []
          },
          "execution_count": 38
        }
      ]
    },
    {
      "cell_type": "code",
      "metadata": {
        "colab": {
          "base_uri": "https://localhost:8080/",
          "height": 282
        },
        "id": "FJUwSP-2YiMI",
        "outputId": "2a465654-22ec-4b6b-ed86-b9bb3a1fd8f8"
      },
      "source": [
        "sns.heatmap(cmtrain, annot=True)\n"
      ],
      "execution_count": null,
      "outputs": [
        {
          "output_type": "execute_result",
          "data": {
            "text/plain": [
              "<matplotlib.axes._subplots.AxesSubplot at 0x7f1b9fd87990>"
            ]
          },
          "metadata": {
            "tags": []
          },
          "execution_count": 40
        },
        {
          "output_type": "display_data",
          "data": {
            "image/png": "[encoded data removed]",
            "text/plain": [
              "<Figure size 432x288 with 2 Axes>"
            ]
          },
          "metadata": {
            "tags": [],
            "needs_background": "light"
          }
        }
      ]
    },
    {
      "cell_type": "code",
      "metadata": {
        "colab": {
          "base_uri": "https://localhost:8080/",
          "height": 282
        },
        "id": "MtAlE5zEYvJA",
        "outputId": "e14fa174-3144-41da-f010-d1447294364b"
      },
      "source": [
        "sns.heatmap(cmtest, annot=True)"
      ],
      "execution_count": null,
      "outputs": [
        {
          "output_type": "execute_result",
          "data": {
            "text/plain": [
              "<matplotlib.axes._subplots.AxesSubplot at 0x7f1b9fd48e10>"
            ]
          },
          "metadata": {
            "tags": []
          },
          "execution_count": 41
        },
        {
          "output_type": "display_data",
          "data": {
            "image/png": "[encoded data removed]",
            "text/plain": [
              "<Figure size 432x288 with 2 Axes>"
            ]
          },
          "metadata": {
            "tags": [],
            "needs_background": "light"
          }
        }
      ]
    },
    {
      "cell_type": "code",
      "metadata": {
        "colab": {
          "base_uri": "https://localhost:8080/"
        },
        "id": "1eixssQdYx_z",
        "outputId": "a7c8d73e-7053-4a9a-91d5-7b259d844663"
      },
      "source": [
        "accuracy_score(ytest, ypredtest)"
      ],
      "execution_count": null,
      "outputs": [
        {
          "output_type": "execute_result",
          "data": {
            "text/plain": [
              "0.978743961352657"
            ]
          },
          "metadata": {
            "tags": []
          },
          "execution_count": 42
        }
      ]
    },
    {
      "cell_type": "code",
      "metadata": {
        "colab": {
          "base_uri": "https://localhost:8080/",
          "height": 69
        },
        "id": "QRJe55x5Y7vZ",
        "outputId": "cd035630-4633-4a40-ae70-6e85ddedee37"
      },
      "source": [
        "classification_report(ypredtest,ytest)"
      ],
      "execution_count": null,
      "outputs": [
        {
          "output_type": "execute_result",
          "data": {
            "application/vnd.google.colaboratory.intrinsic+json": {
              "type": "string"
            },
            "text/plain": [
              "'              precision    recall  f1-score   support\\n\\n           0       0.99      0.99      0.99       742\\n           1       0.96      0.96      0.96       293\\n\\n    accuracy                           0.98      1035\\n   macro avg       0.97      0.97      0.97      1035\\nweighted avg       0.98      0.98      0.98      1035\\n'"
            ]
          },
          "metadata": {
            "tags": []
          },
          "execution_count": 46
        }
      ]
    }
  ]
}